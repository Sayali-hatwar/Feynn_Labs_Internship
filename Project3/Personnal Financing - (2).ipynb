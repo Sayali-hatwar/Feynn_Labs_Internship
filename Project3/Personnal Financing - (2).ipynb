{
  "nbformat": 4,
  "nbformat_minor": 0,
  "metadata": {
    "colab": {
      "provenance": []
    },
    "kernelspec": {
      "name": "python3",
      "display_name": "Python 3"
    },
    "language_info": {
      "name": "python"
    }
  },
  "cells": [
    {
      "cell_type": "markdown",
      "source": [
        "**STEP 2. PROTOTYPE DEVELOPMENT**"
      ],
      "metadata": {
        "id": "Wm01b60jWFOY"
      }
    },
    {
      "cell_type": "code",
      "execution_count": null,
      "metadata": {
        "colab": {
          "base_uri": "https://localhost:8080/"
        },
        "id": "98kHbkTfKPnk",
        "outputId": "db64426c-498d-4024-9503-f9958a25a4f5"
      },
      "outputs": [
        {
          "output_type": "stream",
          "name": "stdout",
          "text": [
            "Budget Data:\n",
            "                 Category  Budget\n",
            "0          Alcohol & Bars      50\n",
            "1          Auto Insurance      75\n",
            "2            Coffee Shops      15\n",
            "3  Electronics & Software       0\n",
            "4           Entertainment      25\n",
            "Empty DataFrame\n",
            "Columns: [Date, Description, Amount, Transaction Type, Category, Account Name]\n",
            "Index: []\n",
            "\n",
            "Personal Transactions Data:\n",
            "        Date          Description   Amount Transaction Type  \\\n",
            "0 2018-01-01               Amazon    11.11            debit   \n",
            "1 2018-01-02     Mortgage Payment  1247.44            debit   \n",
            "2 2018-01-02      Thai Restaurant    24.22            debit   \n",
            "3 2018-01-03  Credit Card Payment  2298.09           credit   \n",
            "4 2018-01-04              Netflix    11.76            debit   \n",
            "\n",
            "              Category   Account Name  \n",
            "0             Shopping  Platinum Card  \n",
            "1      Mortgage & Rent       Checking  \n",
            "2          Restaurants    Silver Card  \n",
            "3  Credit Card Payment  Platinum Card  \n",
            "4        Movies & DVDs  Platinum Card  \n"
          ]
        },
        {
          "output_type": "stream",
          "name": "stderr",
          "text": [
            "<ipython-input-3-51f20a0a8498>:13: UserWarning: The argument 'infer_datetime_format' is deprecated and will be removed in a future version. A strict version of it is now the default, see https://pandas.pydata.org/pdeps/0004-consistent-to-datetime-parsing.html. You can safely remove this argument.\n",
            "  transactions_df['Date'] = pd.to_datetime(transactions_df['Date'], infer_datetime_format=True, errors='coerce')\n"
          ]
        }
      ],
      "source": [
        "# Load Datasets\n",
        "import pandas as pd\n",
        "\n",
        "# Load budget data\n",
        "budget_df = pd.read_csv('/content/Budget.csv')\n",
        "print(\"Budget Data:\")\n",
        "print(budget_df.head())\n",
        "\n",
        "# Load personal transactions data\n",
        "transactions_df = pd.read_csv('/content/personal_transactions.csv')\n",
        "\n",
        "# Attempt to infer the date format automatically\n",
        "transactions_df['Date'] = pd.to_datetime(transactions_df['Date'], infer_datetime_format=True, errors='coerce')\n",
        "\n",
        "# Check for any dates that couldn't be parsed\n",
        "print(transactions_df[transactions_df['Date'].isna()])\n",
        "\n",
        "print(\"\\nPersonal Transactions Data:\")\n",
        "print(transactions_df.head())"
      ]
    },
    {
      "cell_type": "code",
      "source": [
        "# Spend Categorization using NLP\n",
        "import spacy\n",
        "\n",
        "# Load spaCy model\n",
        "nlp = spacy.load('en_core_web_sm')\n",
        "\n",
        "# Define a function to categorize transactions using NLP\n",
        "def categorize_transaction(description):\n",
        "    doc = nlp(description)\n",
        "    # Define some simple keyword matching for categories\n",
        "    if any(token.lemma_ in ['coffee'] for token in doc):\n",
        "        return 'Coffee Shops'\n",
        "    elif any(token.lemma_ in ['gas', 'fuel'] for token in doc):\n",
        "        return 'Gas & Fuel'\n",
        "    elif any(token.lemma_ in ['grocery'] for token in doc):\n",
        "        return 'Groceries'\n",
        "    elif any(token.lemma_ in ['restaurant'] for token in doc):\n",
        "        return 'Restaurants'\n",
        "    elif any(token.lemma_ in ['internet'] for token in doc):\n",
        "        return 'Internet'\n",
        "    else:\n",
        "        return 'Other'\n",
        "\n",
        "# Apply the function to categorize the transactions if not already categorized\n",
        "transactions_df['NLP_Category'] = transactions_df.apply(\n",
        "    lambda row: row['Category'] if pd.notna(row['Category']) else categorize_transaction(row['Description']),\n",
        "    axis=1\n",
        ")\n",
        "print(\"\\nTransactions with NLP Categories:\")\n",
        "print(transactions_df.head())\n"
      ],
      "metadata": {
        "colab": {
          "base_uri": "https://localhost:8080/"
        },
        "id": "BNY8yTLgLlUT",
        "outputId": "12dce0c7-9c38-467d-d98d-61bf72ca1ac8"
      },
      "execution_count": null,
      "outputs": [
        {
          "output_type": "stream",
          "name": "stdout",
          "text": [
            "\n",
            "Transactions with NLP Categories:\n",
            "        Date          Description   Amount Transaction Type  \\\n",
            "0 2018-01-01               Amazon    11.11            debit   \n",
            "1 2018-01-02     Mortgage Payment  1247.44            debit   \n",
            "2 2018-01-02      Thai Restaurant    24.22            debit   \n",
            "3 2018-01-03  Credit Card Payment  2298.09           credit   \n",
            "4 2018-01-04              Netflix    11.76            debit   \n",
            "\n",
            "              Category   Account Name         NLP_Category  \n",
            "0             Shopping  Platinum Card             Shopping  \n",
            "1      Mortgage & Rent       Checking      Mortgage & Rent  \n",
            "2          Restaurants    Silver Card          Restaurants  \n",
            "3  Credit Card Payment  Platinum Card  Credit Card Payment  \n",
            "4        Movies & DVDs  Platinum Card        Movies & DVDs  \n"
          ]
        }
      ]
    },
    {
      "cell_type": "code",
      "source": [
        "# Comparison with Budget\n",
        "# Merge transactions with the budget based on the NLP-derived category\n",
        "merged_df = pd.merge(transactions_df, budget_df, left_on='NLP_Category', right_on='Category', how='left', suffixes=('', '_Budget'))\n",
        "\n",
        "# Calculate total spending per category\n",
        "spending_per_category = merged_df.groupby('NLP_Category')['Amount'].sum().reset_index()\n",
        "\n",
        "# Merge spending with budget data\n",
        "comparison_df = pd.merge(spending_per_category, budget_df, left_on='NLP_Category', right_on='Category', how='left')\n",
        "\n",
        "# Provide advice based on comparison\n",
        "comparison_df['Advice'] = comparison_df.apply(\n",
        "    lambda row: 'On track' if -row['Amount'] <= row['Budget'] else 'Exceeding budget', axis=1\n",
        ")\n",
        "\n",
        "print(\"\\nComparison of Spending with Budget and Advice:\")\n",
        "print(comparison_df[['NLP_Category', 'Amount', 'Budget', 'Advice']])\n"
      ],
      "metadata": {
        "colab": {
          "base_uri": "https://localhost:8080/"
        },
        "id": "66Ig1gWnL5CQ",
        "outputId": "c6816f02-2c94-4b16-e5b9-abdf51e7864e"
      },
      "execution_count": null,
      "outputs": [
        {
          "output_type": "stream",
          "name": "stdout",
          "text": [
            "\n",
            "Comparison of Spending with Budget and Advice:\n",
            "              NLP_Category    Amount  Budget            Advice\n",
            "0           Alcohol & Bars    539.13    50.0          On track\n",
            "1           Auto Insurance   1350.00    75.0          On track\n",
            "2             Coffee Shops    115.54    15.0          On track\n",
            "3      Credit Card Payment  63561.12     NaN  Exceeding budget\n",
            "4   Electronics & Software    719.00     0.0          On track\n",
            "5            Entertainment      9.62    25.0          On track\n",
            "6                Fast Food    330.63    15.0          On track\n",
            "7            Food & Dining     77.75     NaN  Exceeding budget\n",
            "8               Gas & Fuel   1715.17    75.0          On track\n",
            "9                Groceries   2795.21   150.0          On track\n",
            "10                 Haircut    378.00    30.0          On track\n",
            "11        Home Improvement  19092.87   250.0          On track\n",
            "12                Internet   1570.88    75.0          On track\n",
            "13            Mobile Phone   1680.40    65.0          On track\n",
            "14         Mortgage & Rent  24754.50  1100.0          On track\n",
            "15           Movies & DVDs    222.19     0.0          On track\n",
            "16                   Music    224.49    11.0          On track\n",
            "17                Paycheck  93750.00     NaN  Exceeding budget\n",
            "18             Restaurants   2613.02   150.0          On track\n",
            "19                Shopping   1973.24   100.0          On track\n",
            "20              Television    104.78    15.0          On track\n",
            "21               Utilities   2776.00   150.0          On track\n"
          ]
        }
      ]
    },
    {
      "cell_type": "code",
      "source": [],
      "metadata": {
        "id": "Fhf-K_EAMBnN"
      },
      "execution_count": null,
      "outputs": []
    }
  ]
}